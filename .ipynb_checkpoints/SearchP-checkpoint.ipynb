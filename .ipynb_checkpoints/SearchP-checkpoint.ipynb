{
 "cells": [
  {
   "cell_type": "code",
   "execution_count": 21,
   "id": "737965b5",
   "metadata": {},
   "outputs": [],
   "source": [
    "import pandas as pd\n",
    "import numpy as np\n",
    "folderPath = \"//home//victor/Downloads//teste//\"\n",
    "listFiles = ['MVC-04.xlsm', 'MVC-03.xlsm', 'MVC-02.xlsm', 'MVC-08.xlsm']"
   ]
  },
  {
   "cell_type": "code",
   "execution_count": 22,
   "id": "a0e8a799",
   "metadata": {},
   "outputs": [],
   "source": [
    "new_df = pd.DataFrame()"
   ]
  },
  {
   "cell_type": "code",
   "execution_count": 23,
   "id": "86e3c358",
   "metadata": {},
   "outputs": [
    {
     "name": "stderr",
     "output_type": "stream",
     "text": [
      "/tmp/ipykernel_24487/927939763.py:7: FutureWarning: The frame.append method is deprecated and will be removed from pandas in a future version. Use pandas.concat instead.\n",
      "  new_df.append(temp_df, ignore_index=True)\n",
      "/tmp/ipykernel_24487/927939763.py:7: FutureWarning: The frame.append method is deprecated and will be removed from pandas in a future version. Use pandas.concat instead.\n",
      "  new_df.append(temp_df, ignore_index=True)\n",
      "/tmp/ipykernel_24487/927939763.py:7: FutureWarning: The frame.append method is deprecated and will be removed from pandas in a future version. Use pandas.concat instead.\n",
      "  new_df.append(temp_df, ignore_index=True)\n",
      "/tmp/ipykernel_24487/927939763.py:7: FutureWarning: The frame.append method is deprecated and will be removed from pandas in a future version. Use pandas.concat instead.\n",
      "  new_df.append(temp_df, ignore_index=True)\n"
     ]
    }
   ],
   "source": [
    "for file in listFiles:\n",
    "    temp_df = pd.DataFrame()\n",
    "    filePath = (f\"{folderPath}{file}\")\n",
    "    df = pd.read_excel(filePath, sheet_name=5)\n",
    "    arra = np.where((df == \"Total\")==True)\n",
    "    temp_df = df.iloc[arra[0][1]]\n",
    "    new_df.append(temp_df, ignore_index=True)\n",
    "new_df"
   ]
  },
  {
   "cell_type": "code",
   "execution_count": 24,
   "id": "1271ce66",
   "metadata": {},
   "outputs": [
    {
     "data": {
      "text/plain": [
       "(0, 0)"
      ]
     },
     "execution_count": 24,
     "metadata": {},
     "output_type": "execute_result"
    }
   ],
   "source": []
  },
  {
   "cell_type": "code",
   "execution_count": null,
   "id": "5ef05d93",
   "metadata": {},
   "outputs": [],
   "source": []
  }
 ],
 "metadata": {
  "kernelspec": {
   "display_name": "Python 3 (ipykernel)",
   "language": "python",
   "name": "python3"
  },
  "language_info": {
   "codemirror_mode": {
    "name": "ipython",
    "version": 3
   },
   "file_extension": ".py",
   "mimetype": "text/x-python",
   "name": "python",
   "nbconvert_exporter": "python",
   "pygments_lexer": "ipython3",
   "version": "3.10.4"
  },
  "vscode": {
   "interpreter": {
    "hash": "916dbcbb3f70747c44a77c7bcd40155683ae19c65e1c03b4aa3499c5328201f1"
   }
  }
 },
 "nbformat": 4,
 "nbformat_minor": 5
}
