{
 "cells": [
  {
   "cell_type": "code",
   "execution_count": 2,
   "id": "737965b5",
   "metadata": {},
   "outputs": [],
   "source": [
    "import pandas as pd\n",
    "import numpy as np"
   ]
  },
  {
   "cell_type": "code",
   "execution_count": 6,
   "id": "a0e8a799",
   "metadata": {},
   "outputs": [],
   "source": [
    "ndf = pd.DataFrame()\n",
    "df = pd.read_excel(\"//home//victor//Downloads//teste//MVC-03.xlsm\", sheet_name=5)\n",
    "arra = np.where((df == \"Total\")==True)"
   ]
  },
  {
   "cell_type": "code",
   "execution_count": 9,
   "id": "86e3c358",
   "metadata": {},
   "outputs": [
    {
     "data": {
      "text/plain": [
       "Unnamed: 0           Total\n",
       "Unnamed: 1             NaN\n",
       "Unnamed: 2             NaN\n",
       "Unnamed: 3             NaN\n",
       "Unnamed: 4             NaN\n",
       "Unnamed: 5             NaN\n",
       "Unnamed: 6     1548.940098\n",
       "Unnamed: 7             NaN\n",
       "Unnamed: 8     1548.940098\n",
       "Unnamed: 9             NaN\n",
       "Unnamed: 10    3882.853252\n",
       "Unnamed: 11            NaN\n",
       "Unnamed: 12    3112.223367\n",
       "Unnamed: 13    6995.076618\n",
       "Name: 60, dtype: object"
      ]
     },
     "execution_count": 9,
     "metadata": {},
     "output_type": "execute_result"
    }
   ],
   "source": [
    "df.iloc[arra[0][1]]"
   ]
  },
  {
   "cell_type": "code",
   "execution_count": null,
   "id": "1271ce66",
   "metadata": {},
   "outputs": [],
   "source": []
  }
 ],
 "metadata": {
  "kernelspec": {
   "display_name": "Python 3.10.4 64-bit",
   "language": "python",
   "name": "python3"
  },
  "language_info": {
   "codemirror_mode": {
    "name": "ipython",
    "version": 3
   },
   "file_extension": ".py",
   "mimetype": "text/x-python",
   "name": "python",
   "nbconvert_exporter": "python",
   "pygments_lexer": "ipython3",
   "version": "3.10.4"
  },
  "vscode": {
   "interpreter": {
    "hash": "916dbcbb3f70747c44a77c7bcd40155683ae19c65e1c03b4aa3499c5328201f1"
   }
  }
 },
 "nbformat": 4,
 "nbformat_minor": 5
}
